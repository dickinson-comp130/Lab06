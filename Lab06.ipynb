{
 "cells": [
  {
   "cell_type": "markdown",
   "metadata": {},
   "source": [
    "# Lab 06 - Practice Lab Exam\n",
    "**COMP130 - Introduction to Computing**  \n",
    "**Dickinson College**  "
   ]
  },
  {
   "cell_type": "markdown",
   "metadata": {},
   "source": [
    "### Names:"
   ]
  },
  {
   "cell_type": "markdown",
   "metadata": {},
   "source": [
    "Solutions"
   ]
  },
  {
   "cell_type": "markdown",
   "metadata": {},
   "source": [
    "### Lab Exams\n",
    "\n",
    "There are two __Lab Exams__ in this course.  They are intended to complement the written exams by providing the opportunity to demonstrate mastery of the content using a complementary set of skills.  While written tests focus more on conceptual mastery, lab exams focus on the application of that mastery to problem solving using programming in the Python language.\n",
    "\n",
    "Lab exam questions should be expected to be similar to the programming questions that have appeared in the class activities/homework and lab assignments.\n",
    "\n",
    "From the Course Syllabus:\n",
    "\n",
    "All lab exams are strictly individual work. They will be time (2 hours) and will be hands-on during the course lab period. These exams will be open to all materials including the textbook, notes, prior activities, exercises and lab assignments, and static web resources (i.e. no human interaction via chat or messaging). Lab exams will be distributed electronically at the beginning of the lab period and must be submitted electronically by the end of the lab period.\n",
    "\n",
    "### A Practice Lab Exam\n",
    "\n",
    "This practice lab exam is of length and difficulty that is approximately what should be expected for each of the two lab exams.  It is given prior to the first *real* lab exam to help your understand the process, level of independence and go gage your preparedness for the the actual lab exam the following week."
   ]
  },
  {
   "cell_type": "markdown",
   "metadata": {},
   "source": [
    "---\n",
    "\n",
    "### __Q1:__ \"Oh... Billy... Billy... Billy...\"\n",
    "\n",
    "The above is part of a line from the classic movie \"Caddy Shack\" when [Judge Smails is talking to his putter](https://www.youtube.com/watch?v=hNW_wo-_mbQ).  Let's change it up a bit and do that with any name.  \n",
    "\n",
    "Write a program that:\n",
    "- Promts the user for a name\n",
    "- Prints \"Oh... *Name*... *Name*... *Name*...\" \n",
    "\n",
    "For example if the user enters `Luis` then the output would be:\n",
    "- `Oh... Luis... Luis... Luis... this is a biggie.`\n",
    "\n",
    "For maximum credit make efficient use of Python's string operators `+` and `*`."
   ]
  },
  {
   "cell_type": "code",
   "execution_count": null,
   "metadata": {},
   "outputs": [],
   "source": [
    "name = input(\"Enter a name: \")\n",
    "name_dots=name+'... '\n",
    "print('Oh... ' + 3*name_dots + 'this is a biggie.')"
   ]
  },
  {
   "cell_type": "markdown",
   "metadata": {},
   "source": [
    "---\n",
    "\n",
    "### __Q2:__ Squared Difference\n",
    "\n",
    "The squared difference between two numbers is a value that is used in many different computations.  For two floating point values `a` and `b` the squared difference between `a` and `b` is simply `(a-b)` squared.\n",
    "\n",
    "Write a program that:\n",
    "- Prompts the user for values of `a` and `b`\n",
    "- Prints the results as: \"The squared difference of a and b is *result*.\"\n",
    "\n",
    "For example if the user enters 3.0 and 5.0 for `a` and `b` respectively the output would be:\n",
    "- `The sqaured difference of 3.0 and 5.0 is 4.0.`"
   ]
  },
  {
   "cell_type": "code",
   "execution_count": null,
   "metadata": {},
   "outputs": [],
   "source": [
    "a=float(input(\"Enter a: \"))\n",
    "b=float(input(\"Enter b: \"))\n",
    "sq_diff = (a-b)**2\n",
    "print('The squared difference of ' + str(a) + ' and ' + str(b) + ' is ' + str(sq_diff))"
   ]
  },
  {
   "cell_type": "markdown",
   "metadata": {},
   "source": [
    "---\n",
    "\n",
    "### __Q3:__ On the Diagonal\n",
    "\n",
    "Define a function that prints a diagonal line with a specified character, height and slope.  Then call to your function to print a diagonal of `*` with height 5 and slope 3.\n",
    "\n",
    "For example, a diagonal printed using `X` with height 4 and slope 1 would look like:\n",
    "```\n",
    "X\n",
    " X\n",
    "  X\n",
    "   X\n",
    "```\n",
    "\n",
    "\n",
    "While a diagonal printed using `@` with height 3 and slope 2 would look like:\n",
    "```\n",
    "@\n",
    "  @\n",
    "    @\n",
    "```\n",
    "\n",
    "Notice that in the line with `X`'s, each `X` is one space further to the right than the one above it.  This corresponds to the slope of 1.  Similarly, in the second example each `@` is 2 spaces further to the right than the one above it, corresponding to the slope of 2.\n",
    "\n",
    "\n"
   ]
  },
  {
   "cell_type": "markdown",
   "metadata": {},
   "source": [
    "Below are two very similar solutions."
   ]
  },
  {
   "cell_type": "code",
   "execution_count": 1,
   "metadata": {},
   "outputs": [
    {
     "name": "stdout",
     "output_type": "stream",
     "text": [
      "*\n",
      "   *\n",
      "      *\n",
      "         *\n",
      "            *\n"
     ]
    }
   ],
   "source": [
    "def print_diagonal(letter, height, slope):\n",
    "    spaces=''\n",
    "    for line in range(height):\n",
    "        print(spaces + letter)\n",
    "        spaces = spaces + ' '*slope\n",
    "        \n",
    "print_diagonal('*', 5, 3)"
   ]
  },
  {
   "cell_type": "code",
   "execution_count": 3,
   "metadata": {},
   "outputs": [
    {
     "name": "stdout",
     "output_type": "stream",
     "text": [
      "*\n",
      "   *\n",
      "      *\n",
      "         *\n",
      "            *\n"
     ]
    }
   ],
   "source": [
    "def print_diagonal(letter, height, slope):\n",
    "    spaces=0\n",
    "    for line in range(height):\n",
    "        print(' '*spaces + letter)\n",
    "        spaces = spaces + slope\n",
    "        \n",
    "print_diagonal('*', 5, 3)"
   ]
  },
  {
   "cell_type": "markdown",
   "metadata": {},
   "source": [
    "---\n",
    "\n",
    "### __Q4:__ Corporate Match\n",
    "\n",
    "A particularly philanthropic company has decided to encourage its employees to give to charity it will match every donation made and add another 10% for good measure.  For example, if the employee donates \\\\$100 then the company would donate \\\\$110. Write a program to help track the donations.  Your program should:\n",
    "- Prompt for the number of employees that donated.\n",
    "- Prompt for the amount of each employee donation.\n",
    "- Print out:\n",
    "  - The total amount donated by employees.\n",
    "  - The total amount donated by the company .\n",
    "  - The combined total amount donated.\n",
    "  \n",
    "So, if 3 employees were to donate \\\\$10, \\\\$50, \\\\$30 then the output might be:\n",
    "```\n",
    "The employees donated $90.0\n",
    "The company donated $99.0\n",
    "The total donation was $189.0\n",
    "```"
   ]
  },
  {
   "cell_type": "code",
   "execution_count": null,
   "metadata": {},
   "outputs": [],
   "source": [
    "num_donations=int(input('How many donations: '))\n",
    "emp_total=0\n",
    "co_total=0\n",
    "\n",
    "for donation in range(num_donations):\n",
    "    amount=float(input('How much was donated: '))\n",
    "    emp_total = emp_total + amount\n",
    "    co_total = co_total + amount*1.1\n",
    "    \n",
    "print('Employees donated $' + str(emp_total))\n",
    "print('The company donated $' + str(co_total))\n",
    "print('The total donation was $' + str(emp_total + co_total))"
   ]
  },
  {
   "cell_type": "markdown",
   "metadata": {},
   "source": [
    "---\n",
    "\n",
    "### __Q5__ That \"B\" a Turtle\n",
    "\n",
    "Write a program that uses the Python `turtle` module to draw an uppercase letter B (as shown below). \n",
    "\n",
    "![B drawn by a turtle](B.jpeg)\n",
    "\n",
    "The B should be able to be drawn using different `Turtle` objects and in different sizes. For maximum credit your program should have a good design reflecting the use of encapsulation, generalization and refactoring."
   ]
  },
  {
   "cell_type": "code",
   "execution_count": 1,
   "metadata": {},
   "outputs": [],
   "source": [
    "import turtle\n",
    "\n",
    "def draw_B_arc(tur, size):\n",
    "    \"\"\"\n",
    "    Draw a single arc part of the B using line segments\n",
    "    of the specified length.\n",
    "    \"\"\"\n",
    "    \n",
    "    tur.setheading(0)\n",
    "    for side in range(5):\n",
    "        tur.forward(size)\n",
    "        tur.left(45)\n",
    "        \n",
    "def draw_B(tur, size):\n",
    "    \"\"\"\n",
    "    Draw a B using the turtle tur at tur's current location\n",
    "    with line segments of length size\n",
    "    \"\"\"\n",
    "    \n",
    "    # Save the starting point to make drawing the back of the B easier.\n",
    "    x = tur.xcor()\n",
    "    y = tur.ycor()\n",
    "    \n",
    "    for arc in range(2):\n",
    "        draw_B_arc(tur, size)\n",
    "        \n",
    "    # Draw the back.\n",
    "    tur.goto(x,y)\n",
    "    \n",
    "b_tur=turtle.Turtle()\n",
    "draw_B(b_tur,50)"
   ]
  }
 ],
 "metadata": {
  "kernelspec": {
   "display_name": "Python 3",
   "language": "python",
   "name": "python3"
  },
  "language_info": {
   "codemirror_mode": {
    "name": "ipython",
    "version": 3
   },
   "file_extension": ".py",
   "mimetype": "text/x-python",
   "name": "python",
   "nbconvert_exporter": "python",
   "pygments_lexer": "ipython3",
   "version": "3.7.3"
  }
 },
 "nbformat": 4,
 "nbformat_minor": 2
}
